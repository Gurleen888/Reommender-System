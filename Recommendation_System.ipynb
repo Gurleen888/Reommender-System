{
 "cells": [
  {
   "cell_type": "code",
   "execution_count": null,
   "metadata": {
    "id": "E5xgoXBa-VLN"
   },
   "outputs": [],
   "source": [
    "%matplotlib inline  \n",
    "# To make data visualisations display in Jupyter Notebooks\n",
    "import numpy as np   # linear algebra\n",
    "import pandas as pd  # Data processing, Input & Output load\n",
    "import matplotlib.pyplot as plt # Visuvalization & plotting\n",
    "import seaborn as sns # Also for Data visuvalization\n",
    "\n",
    "from sklearn.metrics.pairwise import cosine_similarity  # Compute cosine similarity between samples in X and Y.\n",
    "from scipy import sparse  #  sparse matrix package for numeric data.\n",
    "from scipy.sparse.linalg import svds # svd algorithm\n",
    "\n",
    "import warnings   # To avoid warning messages in the code run\n",
    "warnings.filterwarnings(\"ignore\")\n",
    "pd.set_option('display.max_rows', None)\n",
    "pd.set_option('display.max_columns', None)\n",
    "pd.set_option('display.width', None)"
   ]
  },
  {
   "cell_type": "code",
   "execution_count": null,
   "metadata": {
    "id": "Sp7rVFPa-VLY"
   },
   "outputs": [],
   "source": [
    "Rating = pd.read_csv('Ratings.csv')\n",
    "Movie_D = pd.read_csv('Movie details.csv',encoding='latin-1') ##Movie details"
   ]
  },
  {
   "cell_type": "code",
   "execution_count": null,
   "metadata": {
    "id": "cTvDM2Rd-VLZ"
   },
   "outputs": [],
   "source": [
    "Rating.shape"
   ]
  },
  {
   "cell_type": "code",
   "execution_count": null,
   "metadata": {
    "id": "RaysJ0cH-VLb"
   },
   "outputs": [],
   "source": [
    "Rating.head()"
   ]
  },
  {
   "cell_type": "code",
   "execution_count": null,
   "metadata": {
    "id": "OPNpdkMF-VLc"
   },
   "outputs": [],
   "source": [
    "Rating.columns = ['user_id', 'movie_id', 'rating', 'timestamp']"
   ]
  },
  {
   "cell_type": "code",
   "execution_count": null,
   "metadata": {
    "id": "95Oji2An-VLc"
   },
   "outputs": [],
   "source": [
    "Movie_D.shape"
   ]
  },
  {
   "cell_type": "code",
   "execution_count": null,
   "metadata": {
    "id": "5bVwcO6m-VLd"
   },
   "outputs": [],
   "source": [
    "Movie_D.head()"
   ]
  },
  {
   "cell_type": "code",
   "execution_count": null,
   "metadata": {
    "id": "6xGJO8hP-VLe"
   },
   "outputs": [],
   "source": [
    "Movie_D.columns = ['movie_id', 'movie_title', 'release_date', 'video_release_date ',\n",
    "       'IMDb_URL', 'unknown', 'Action ', 'Adventure', 'Animation',\n",
    "       'Childrens', 'Comedy ', 'Crime ', ' Documentary ', 'Drama',\n",
    "       ' Fantasy', 'Film-Noir ', 'Horror ', 'Musical', 'Mystery',\n",
    "       ' Romance', 'Sci-Fi', 'Thriller', 'War', 'Western']"
   ]
  },
  {
   "cell_type": "code",
   "execution_count": null,
   "metadata": {
    "id": "OynGfXu4-VLf"
   },
   "outputs": [],
   "source": [
    "Movie_Rating = pd.merge(Rating, Movie_D, on='movie_id')\n",
    "Movie_Rating.describe()"
   ]
  },
  {
   "cell_type": "code",
   "execution_count": null,
   "metadata": {
    "id": "6ekA65A0-VLg"
   },
   "outputs": [],
   "source": [
    "n_users = Movie_Rating.user_id.unique().shape[0]\n",
    "n_items = Movie_Rating.movie_id.unique().shape[0]\n",
    "print(n_items, n_users)"
   ]
  },
  {
   "cell_type": "code",
   "execution_count": null,
   "metadata": {
    "id": "i_1Gkbs--VLg"
   },
   "outputs": [],
   "source": [
    "# Calculate mean rating of all movies \n",
    "Movie_Stats = pd.DataFrame(Movie_Rating.groupby('movie_title')['rating'].mean())\n",
    "Movie_Stats.sort_values(by = ['rating'],ascending=False).head()"
   ]
  },
  {
   "cell_type": "code",
   "execution_count": null,
   "metadata": {
    "id": "yvUwLDlW-VLh"
   },
   "outputs": [],
   "source": [
    "# Calculate count rating of all movies\n",
    "Movie_Stats['Count_of_ratings'] = pd.DataFrame(Movie_Rating.groupby('movie_title')['rating'].count())\n",
    "Movie_Stats.sort_values(by =['Count_of_ratings'], ascending=False).head()"
   ]
  },
  {
   "cell_type": "code",
   "execution_count": null,
   "metadata": {
    "id": "RLVJgJY4-VLi"
   },
   "outputs": [],
   "source": [
    "Movie_Stats['Count_of_ratings'].hist(bins=50)"
   ]
  },
  {
   "cell_type": "code",
   "execution_count": null,
   "metadata": {
    "id": "ufiAUNWW-VLi"
   },
   "outputs": [],
   "source": [
    "sns.jointplot(x='rating', y='Count_of_ratings', data=Movie_Stats)"
   ]
  },
  {
   "cell_type": "code",
   "execution_count": null,
   "metadata": {
    "id": "jFJApPnK-VLj"
   },
   "outputs": [],
   "source": [
    "User_movie_Rating = Movie_Rating.pivot_table(index='user_id', columns='movie_title', values='rating')\n",
    "User_movie_Rating.head()"
   ]
  },
  {
   "cell_type": "code",
   "execution_count": null,
   "metadata": {
    "id": "fMsPd4mj-VLl"
   },
   "outputs": [],
   "source": [
    "User_movie_Rating.shape"
   ]
  },
  {
   "cell_type": "code",
   "execution_count": null,
   "metadata": {
    "id": "wPgCSbft-VLl"
   },
   "outputs": [],
   "source": [
    "User_movie_Rating['Air Force One (1997)']"
   ]
  },
  {
   "cell_type": "code",
   "execution_count": null,
   "metadata": {
    "id": "PlnR94XV-VLm"
   },
   "outputs": [],
   "source": [
    "Similarity = User_movie_Rating.corrwith(User_movie_Rating['Air Force One (1997)'])\n",
    "Similarity.head()"
   ]
  },
  {
   "cell_type": "code",
   "execution_count": null,
   "metadata": {
    "id": "8UmzHvac-VLn"
   },
   "outputs": [],
   "source": [
    "corr_similar = pd.DataFrame(Similarity, columns=['Correlation'])\n",
    "corr_similar.sort_values(['Correlation'], ascending= False).head(10)"
   ]
  },
  {
   "cell_type": "code",
   "execution_count": null,
   "metadata": {
    "id": "4d8LCh0H-VLn"
   },
   "outputs": [],
   "source": [
    "corr_similar_num_of_rating = corr_similar.join(Movie_Stats['Count_of_ratings'])\n",
    "corr_similar_num_of_rating.sort_values(['Correlation'], ascending= False).head(10)"
   ]
  },
  {
   "cell_type": "code",
   "execution_count": null,
   "metadata": {
    "id": "7F3FX4Tb-VLo"
   },
   "outputs": [],
   "source": [
    "corr_similar_num_of_rating[corr_similar_num_of_rating ['Count_of_ratings']>50].sort_values('Correlation', ascending=False).head()"
   ]
  },
  {
   "cell_type": "code",
   "execution_count": null,
   "metadata": {
    "id": "SbloTzSR-VLo"
   },
   "outputs": [],
   "source": [
    "Movie_cosine = Movie_Rating[['user_id','movie_id','rating']]\n",
    "Movie_cosine.head()"
   ]
  },
  {
   "cell_type": "code",
   "execution_count": null,
   "metadata": {
    "id": "zJkCrEdo-VLp"
   },
   "outputs": [],
   "source": [
    "data = Movie_cosine.rating\n",
    "col = Movie_cosine.movie_id\n",
    "row = Movie_cosine.user_id\n",
    "\n",
    "R = sparse.coo_matrix((data, (col, row))).tocsr()\n",
    "print('{0}x{1} user by movie matrix'.format(*R.shape))"
   ]
  },
  {
   "cell_type": "code",
   "execution_count": null,
   "metadata": {
    "id": "fqM-s8ct-VLq"
   },
   "outputs": [],
   "source": [
    "find_similarities = cosine_similarity(R.T) # We are transposing the matrix \n",
    "print (find_similarities.shape)"
   ]
  },
  {
   "cell_type": "code",
   "execution_count": null,
   "metadata": {
    "id": "HLD4N8zg-VLq"
   },
   "outputs": [],
   "source": [
    "find_similarities[4].argsort()"
   ]
  },
  {
   "cell_type": "code",
   "execution_count": null,
   "metadata": {
    "id": "JYb44JZ5-VLq"
   },
   "outputs": [],
   "source": [
    "find_similarities[4].argsort()[-5:]"
   ]
  },
  {
   "cell_type": "code",
   "execution_count": null,
   "metadata": {
    "id": "eQnc7giE-VLr"
   },
   "outputs": [],
   "source": [
    "Movie_D.iloc[4]"
   ]
  },
  {
   "cell_type": "code",
   "execution_count": null,
   "metadata": {
    "id": "uODLEpSE-VLr"
   },
   "outputs": [],
   "source": [
    "Movie_D.iloc[find_similarities[4].argsort()[-5:]]"
   ]
  },
  {
   "cell_type": "code",
   "execution_count": null,
   "metadata": {
    "id": "rXYFoyR2-VLs"
   },
   "outputs": [],
   "source": [
    "df_matrix = User_movie_Rating.fillna(0)"
   ]
  },
  {
   "cell_type": "code",
   "execution_count": null,
   "metadata": {
    "id": "xhmtmxvg-VLs"
   },
   "outputs": [],
   "source": [
    "df_matrix.shape"
   ]
  },
  {
   "cell_type": "code",
   "execution_count": null,
   "metadata": {
    "id": "XBi9I85pBwxH"
   },
   "outputs": [],
   "source": [
    "df_matrix.iloc[2]"
   ]
  },
  {
   "cell_type": "code",
   "execution_count": null,
   "metadata": {
    "id": "G5Nrd4JQ-VLt"
   },
   "outputs": [],
   "source": [
    "U, SIGMA, VT = svds(df_matrix) #k=20\n",
    "U.shape, SIGMA.shape, VT.shape"
   ]
  },
  {
   "cell_type": "code",
   "execution_count": null,
   "metadata": {
    "id": "qD3s7oDa-VLt"
   },
   "outputs": [],
   "source": [
    "SIGMA = np.diag(SIGMA)\n",
    "U.shape, SIGMA.shape, VT.shape"
   ]
  },
  {
   "cell_type": "code",
   "execution_count": null,
   "metadata": {
    "id": "hvYKNV6f-VL3"
   },
   "outputs": [],
   "source": [
    "reconstructed_df = np.dot(np.dot(U, SIGMA), VT)\n",
    "predictions_df = pd.DataFrame(reconstructed_df, columns = df_matrix.columns)\n",
    "predictions_df.iloc[2]"
   ]
  },
  {
   "cell_type": "code",
   "execution_count": null,
   "metadata": {
    "id": "WMrdLib9CBrX"
   },
   "outputs": [],
   "source": [
    "predictions_df.iloc[2][df_matrix.iloc[2]==0.0].sort_values(ascending=False).head()"
   ]
  }
 ],
 "metadata": {
  "colab": {
   "collapsed_sections": [],
   "name": "Recommendation System.ipynb",
   "provenance": []
  },
  "kernelspec": {
   "display_name": "Python 3",
   "language": "python",
   "name": "python3"
  },
  "language_info": {
   "codemirror_mode": {
    "name": "ipython",
    "version": 3
   },
   "file_extension": ".py",
   "mimetype": "text/x-python",
   "name": "python",
   "nbconvert_exporter": "python",
   "pygments_lexer": "ipython3",
   "version": "3.7.4"
  }
 },
 "nbformat": 4,
 "nbformat_minor": 1
}
